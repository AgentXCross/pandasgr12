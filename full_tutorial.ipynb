{
 "cells": [
  {
   "cell_type": "markdown",
   "id": "da9985d5",
   "metadata": {},
   "source": [
    "Introduction to Data Frames"
   ]
  },
  {
   "cell_type": "code",
   "execution_count": 4,
   "id": "a078236f",
   "metadata": {},
   "outputs": [],
   "source": [
    "import pandas as pd\n",
    "\n",
    "df = pd.DataFrame([\n",
    "    [1, 2, 3],\n",
    "    [4, 5, 6],\n",
    "    [8, 9, 10]\n",
    "], columns=[\"A\", \"B\", \"C\"]\n",
    ", index = [\"X\", \"Y\", \"Z\"])"
   ]
  },
  {
   "cell_type": "code",
   "execution_count": null,
   "id": "30c56b99",
   "metadata": {},
   "outputs": [],
   "source": [
    "#df.head(2) First 2 rows\n",
    "#df.tail(2)  Last 2 rows\n",
    "#df.columns Headers\n",
    "#df.index row indices\n",
    "#df.info() Gives info on bytes or data types\n",
    "#df.unique(\"A\") Unique values in column A\n",
    "#df.shape() Gives shape of the data frame row vs columns\n",
    "#df.size() Total number of items\n",
    "df.describe() #Gives data info on mean, stddev, median"
   ]
  },
  {
   "cell_type": "markdown",
   "id": "323c1bce",
   "metadata": {},
   "source": [
    "Loading Frames from Files"
   ]
  },
  {
   "cell_type": "code",
   "execution_count": null,
   "id": "5e6b509a",
   "metadata": {},
   "outputs": [],
   "source": [
    "coffee = pd.read_csv(\"./warmup-data/coffee.csv\")\n",
    "results = pd.read_parquet(\"./data/results.parquet\")\n",
    "olympics_data = pd.read_excel(\"./data/olympics-data.xlsx\", sheet_name = \"results\") #You can specify which excel sheet in that file\n",
    "bios = pd.read_csv(\"./data/bios.csv\")\n",
    "#.to_excel, .to_xlsx to change the file type"
   ]
  },
  {
   "cell_type": "markdown",
   "id": "435f3afa",
   "metadata": {},
   "source": [
    "Accessing Data with Pandas"
   ]
  },
  {
   "cell_type": "code",
   "execution_count": null,
   "id": "715f1ed0",
   "metadata": {},
   "outputs": [],
   "source": [
    "coffee"
   ]
  }
 ],
 "metadata": {
  "kernelspec": {
   "display_name": "pandas_venv",
   "language": "python",
   "name": "python3"
  },
  "language_info": {
   "codemirror_mode": {
    "name": "ipython",
    "version": 3
   },
   "file_extension": ".py",
   "mimetype": "text/x-python",
   "name": "python",
   "nbconvert_exporter": "python",
   "pygments_lexer": "ipython3",
   "version": "3.10.4"
  }
 },
 "nbformat": 4,
 "nbformat_minor": 5
}
